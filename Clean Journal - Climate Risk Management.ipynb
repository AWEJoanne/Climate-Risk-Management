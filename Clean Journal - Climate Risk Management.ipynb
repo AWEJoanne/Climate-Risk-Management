{
 "cells": [
  {
   "cell_type": "code",
   "execution_count": 1,
   "id": "43dc8969",
   "metadata": {},
   "outputs": [],
   "source": [
    "import os\n",
    "import re\n",
    "import pandas as pd\n",
    "from datetime import datetime"
   ]
  },
  {
   "cell_type": "code",
   "execution_count": 2,
   "id": "173e48c7",
   "metadata": {},
   "outputs": [],
   "source": [
    "directory = \"C:/Users/Science Direct Climate Risk Management Text/\""
   ]
  },
  {
   "cell_type": "code",
   "execution_count": 3,
   "id": "4ee5ef60",
   "metadata": {},
   "outputs": [],
   "source": [
    "data = {'filename': [], 'title': [], 'abstract': [], 'received_date': [], 'revised_date': [], 'accepted_date': []}\n",
    "\n",
    "for filename in os.listdir(directory):\n",
    "    if filename.endswith('.txt'):\n",
    "        with open(os.path.join(directory, filename), 'r', encoding='utf-8') as file:\n",
    "            text = file.read()\n",
    "            \n",
    "            # extract title and author\n",
    "            title_start = text.find(\"journal homepage: www.elsevier.com/locate/crm\")\n",
    "            title_end1 = text.find(\"A R T I C L E\", title_start)\n",
    "            title_end2 = text.find(\"A B S T R A C T\", title_start)\n",
    "            title_end3 = text.find('Introduction', title_start)\n",
    "            if title_end1 != -1:\n",
    "                title = text[title_start:title_end1].strip().replace(\"journal homepage: www.elsevier.com/locate/crm\", \"\")\n",
    "            elif title_end2 != -1:\n",
    "                title = text[title_start:title_end2].strip().replace(\"journal homepage: www.elsevier.com/locate/crm\", \"\")\n",
    "            elif title_end3 != -1:\n",
    "                title = text[title_start:title_end3].strip().replace(\"journal homepage: www.elsevier.com/locate/crm\", \"\")\n",
    "            else:\n",
    "                title = \"N/A\"\n",
    "            \n",
    "            # extract abstract\n",
    "            start_abstract = text.find('A B S T R A C T')\n",
    "            end_abstract1 = text.find('Introduction', start_abstract)\n",
    "\n",
    "            if end_abstract1 != -1:\n",
    "                # ABSTRACT is before INTRODUCTION\n",
    "                abstract = text[start_abstract:end_abstract1].replace('A B S T R A C T', '')\n",
    "            else:\n",
    "                # ABSTRACT is after INTRODUCTION\n",
    "                text = text.replace('A B S T R A C T\\n\\n', '')\n",
    "                end_abstract2 = text.find('\\n\\n', start_abstract)\n",
    "                abstract = text[start_abstract:end_abstract2].replace('A B S T R A C T', '')\n",
    "\n",
    "            # extract date\n",
    "            pattern = r\"Received\\s+\\d{1,2}\\s+\\w+\\s+\\d{4};\\s+Received in revised form\\s+\\d{1,2}\\s+\\w+\\s+\\d{4};\\s+Accepted\\s+\\d{1,2}\\s+\\w+\\s+\\d{4}\"\n",
    "            date_match = re.search(pattern, text)\n",
    "            if date_match:\n",
    "                match_str = date_match.group(0)\n",
    "                match_list = match_str.split(\"; \")\n",
    "                received_date = re.search('\\d{1,2}\\s+\\w+\\s+\\d{4}', match_list[0]).group(0)\n",
    "                revised_date = re.search('\\d{1,2}\\s+\\w+\\s+\\d{4}', match_list[1]).group(0)\n",
    "                accepted_date = re.search('\\d{1,2}\\s+\\w+\\s+\\d{4}', match_list[2]).group(0)\n",
    "                \n",
    "            else:\n",
    "                received_date = ''\n",
    "                revised_date = ''\n",
    "                accepted_date = ''\n",
    "\n",
    "            # add data to dataframe\n",
    "            data['filename'].append(filename)\n",
    "            data['title'].append(title)\n",
    "            data['abstract'].append(abstract)\n",
    "            data['received_date'].append(received_date)\n",
    "            data['revised_date'].append(revised_date)\n",
    "            data['accepted_date'].append(accepted_date)\n",
    "            \n",
    "df = pd.DataFrame(data)\n",
    "df[['received_date', 'revised_date', 'accepted_date']] = df[['received_date', 'revised_date', 'accepted_date']].apply(pd.to_datetime, dayfirst=True)\n",
    "df.to_excel('Science Direct Climate Risk Management Articles.xlsx')"
   ]
  }
 ],
 "metadata": {
  "kernelspec": {
   "display_name": "Python 3 (ipykernel)",
   "language": "python",
   "name": "python3"
  },
  "language_info": {
   "codemirror_mode": {
    "name": "ipython",
    "version": 3
   },
   "file_extension": ".py",
   "mimetype": "text/x-python",
   "name": "python",
   "nbconvert_exporter": "python",
   "pygments_lexer": "ipython3",
   "version": "3.9.7"
  }
 },
 "nbformat": 4,
 "nbformat_minor": 5
}
